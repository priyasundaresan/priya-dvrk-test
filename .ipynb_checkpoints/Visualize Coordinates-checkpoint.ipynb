{
 "cells": [
  {
   "cell_type": "code",
   "execution_count": 130,
   "metadata": {},
   "outputs": [],
   "source": [
    "import os,sys\n",
    "sys.path.insert(1, os.path.join(sys.path[0], 'utils'))\n",
    "from mpl_toolkits import mplot3d\n",
    "%matplotlib inline\n",
    "from mpl_toolkits.mplot3d import Axes3D\n",
    "import matplotlib.pyplot as plt\n",
    "import matplotlib.animation as animation\n",
    "import numpy as np\n",
    "import read_camera\n",
    "import transform\n",
    "import pprint\n",
    "import rigid_transform\n",
    "from matplotlib.tri import Triangulation"
   ]
  },
  {
   "cell_type": "markdown",
   "metadata": {},
   "source": [
    "## Endoscope Calibration (1)"
   ]
  },
  {
   "cell_type": "code",
   "execution_count": 48,
   "metadata": {},
   "outputs": [
    {
     "name": "stdout",
     "output_type": "stream",
     "text": [
      "matrix([[-0.04338947, -0.02332591,  0.15220529],\n",
      "        [-0.0311438 , -0.02236755,  0.15220529],\n",
      "        [-0.01925599, -0.02179035,  0.15525671],\n",
      "        [-0.00678613, -0.02060439,  0.15281767],\n",
      "        [ 0.00542535, -0.02026216,  0.15764119],\n",
      "        [-0.04428951, -0.0119729 ,  0.14961027],\n",
      "        [-0.03194188, -0.01099711,  0.14962554],\n",
      "        [-0.01951993, -0.01012479,  0.14962554],\n",
      "        [-0.00750433, -0.00948297,  0.15220529],\n",
      "        [ 0.00481658, -0.00883419,  0.15578659],\n",
      "        [-0.04463047, -0.00027559,  0.14471978],\n",
      "        [-0.03252353,  0.00050339,  0.14551495],\n",
      "        [-0.02036119,  0.00126384,  0.14713178],\n",
      "        [-0.00837491,  0.00218516,  0.15092675],\n",
      "        [ 0.00431982,  0.00291916,  0.15111776],\n",
      "        [-0.04660133,  0.01143541,  0.14466405],\n",
      "        [-0.03346503,  0.01224647,  0.14315524],\n",
      "        [-0.02072193,  0.01267695,  0.14162417],\n",
      "        [-0.00865397,  0.01369652,  0.14471978],\n",
      "        [ 0.00383879,  0.01462265,  0.1462187 ],\n",
      "        [-0.04741852,  0.02345051,  0.14087085],\n",
      "        [-0.03457359,  0.02417324,  0.14087085],\n",
      "        [-0.02191091,  0.02483094,  0.14162417],\n",
      "        [-0.00941092,  0.02576136,  0.14238559],\n",
      "        [ 0.00322276,  0.02625111,  0.14162417]])\n"
     ]
    }
   ],
   "source": [
    "endoscope_points = np.matrix([(-0.04338947092614118, -0.023325907286340538, 0.15220528735632186),\n",
    "  (-0.031143798625279356, -0.022367550323664397, 0.15220528735632186),\n",
    "  (-0.0192559899385013, -0.02179035031089207, 0.1552567060519124),\n",
    "  (-0.006786132018930711, -0.020604393246257072, 0.15281766958560145),\n",
    "  (0.005425352370310331, -0.02026216415600288, 0.1576411904761905),\n",
    "  (-0.044289511098487874, -0.011972898330787362, 0.1496102659895789),\n",
    "  (-0.03194187532512598, -0.010997113684096243, 0.14962553672316387),\n",
    "  (-0.019519932722905645, -0.01012478625416504, 0.14962553672316387),\n",
    "  (-0.007504326879267832, -0.009482973381018476, 0.15220528735632186),\n",
    "  (0.004816576618549658, -0.008834185243548853, 0.15578658823529412),\n",
    "  (-0.0446304686422943, -0.0002755907840643089, 0.14471978142076503),\n",
    "  (-0.0325235345896459, 0.0005033883802540034, 0.14551494505494506),\n",
    "  (-0.020361193060485214, 0.001263835587179516, 0.14713177777777778),\n",
    "  (-0.008374913329835473, 0.0021851550104667774, 0.15092674782240906),\n",
    "  (0.004319815984771144, 0.0029191645585869837, 0.1511177629337186),\n",
    "  (-0.04660133224079971, 0.011435410587253222, 0.14466405366091592),\n",
    "  (-0.03346503100696067, 0.01224646601612744, 0.14315524324324327),\n",
    "  (-0.020721932672836244, 0.012676949424866824, 0.14162417112299466),\n",
    "  (-0.008653969377970952, 0.013696520562492789, 0.14471978142076503),\n",
    "  (0.0038387865280339662, 0.01462264922874846, 0.1462187041639933),\n",
    "  (-0.04741851715007085, 0.02345050717947532, 0.1408708510638298),\n",
    "  (-0.0345735885451243, 0.02417323973525236, 0.1408708510638298),\n",
    "  (-0.021910910294979907, 0.02483094289566872, 0.14162417112299466),\n",
    "  (-0.009410916707926521, 0.02576135590529011, 0.14238559139784948),\n",
    "  (0.003222755550890319, 0.026251110611006986, 0.14162417112299466)])\n",
    "pprint.pprint(endoscope_points)\n"
   ]
  },
  {
   "cell_type": "code",
   "execution_count": 229,
   "metadata": {},
   "outputs": [
    {
     "data": {
      "image/png": "[encoded data removed]",
      "text/plain": [
       "<Figure size 432x288 with 1 Axes>"
      ]
     },
     "metadata": {
      "needs_background": "light"
     },
     "output_type": "display_data"
    }
   ],
   "source": [
    "fig = plt.figure()\n",
    "ax = plt.axes(projection='3d')\n",
    "X = endoscope_points[:,0]\n",
    "Y = endoscope_points[:,1]\n",
    "Z = endoscope_points[:,2]\n",
    "ax.scatter3D(X, Y, Z)\n",
    "\n",
    "normal = np.squeeze(np.asarray(rigid_transform.least_squares_plane_normal(endoscope_points)))\n",
    "point = np.squeeze(np.asarray(endoscope_points[12]))\n",
    "d = -point.dot(normal)\n",
    "z = (-normal[0] * X + normal[1] * Y + d) * 1. /normal[2]\n",
    "\n",
    "ax.scatter3D(X, Y, z)\n",
    "\n",
    "def rotate(angle):\n",
    "    ax.view_init(azim=angle)\n",
    "\n",
    "rot_animation = animation.FuncAnimation(fig, rotate, frames=np.arange(0,362,2),interval=100)\n",
    "# rot_animation.save('./endoscope.gif', dpi=80, writer='imagemagick')"
   ]
  },
  {
   "cell_type": "code",
   "execution_count": null,
   "metadata": {},
   "outputs": [],
   "source": []
  },
  {
   "cell_type": "markdown",
   "metadata": {},
   "source": [
    "## World"
   ]
  },
  {
   "cell_type": "code",
   "execution_count": 129,
   "metadata": {},
   "outputs": [
    {
     "name": "stdout",
     "output_type": "stream",
     "text": [
      "matrix([[0.    , 0.    , 0.    ],\n",
      "        [0.0125, 0.    , 0.    ],\n",
      "        [0.025 , 0.    , 0.    ],\n",
      "        [0.0375, 0.    , 0.    ],\n",
      "        [0.05  , 0.    , 0.    ],\n",
      "        [0.    , 0.0125, 0.    ],\n",
      "        [0.0125, 0.0125, 0.    ],\n",
      "        [0.025 , 0.0125, 0.    ],\n",
      "        [0.0375, 0.0125, 0.    ],\n",
      "        [0.05  , 0.0125, 0.    ],\n",
      "        [0.    , 0.025 , 0.    ],\n",
      "        [0.0125, 0.025 , 0.    ],\n",
      "        [0.025 , 0.025 , 0.    ],\n",
      "        [0.0375, 0.025 , 0.    ],\n",
      "        [0.05  , 0.025 , 0.    ],\n",
      "        [0.    , 0.0375, 0.    ],\n",
      "        [0.0125, 0.0375, 0.    ],\n",
      "        [0.025 , 0.0375, 0.    ],\n",
      "        [0.0375, 0.0375, 0.    ],\n",
      "        [0.05  , 0.0375, 0.    ],\n",
      "        [0.    , 0.05  , 0.    ],\n",
      "        [0.0125, 0.05  , 0.    ],\n",
      "        [0.025 , 0.05  , 0.    ],\n",
      "        [0.0375, 0.05  , 0.    ],\n",
      "        [0.05  , 0.05  , 0.    ]])\n"
     ]
    }
   ],
   "source": [
    "world_pts = transform.generate_world()\n",
    "pprint.pprint(world_pts)"
   ]
  },
  {
   "cell_type": "code",
   "execution_count": null,
   "metadata": {},
   "outputs": [],
   "source": [
    "fig = plt.figure()\n",
    "ax = plt.axes(projection='3d')\n",
    "X = world_pts[:,0]\n",
    "Y = world_pts[:,1]\n",
    "Z = world_pts[:,2]\n",
    "ax.scatter3D(X, Y, Z)\n",
    "\n",
    "rot_animation = animation.FuncAnimation(fig, rotate, frames=np.arange(0, 362, 2), interval=100)\n",
    "# rot_animation.save('../world.gif', dpi=80, writer='imagemagick')"
   ]
  },
  {
   "cell_type": "markdown",
   "metadata": {},
   "source": [
    "## PSM2 Data"
   ]
  },
  {
   "cell_type": "code",
   "execution_count": null,
   "metadata": {},
   "outputs": [],
   "source": []
  },
  {
   "cell_type": "code",
   "execution_count": null,
   "metadata": {},
   "outputs": [],
   "source": [
    "psm2_data = list(transform.load_all('world/psm2_recordings.txt'))\n",
    "psm2_pts = transform.psm_data_to_matrix(psm2_data)\n",
    "pprint.pprint(psm2_pts)"
   ]
  },
  {
   "cell_type": "code",
   "execution_count": null,
   "metadata": {},
   "outputs": [],
   "source": [
    "fig = plt.figure()\n",
    "ax = plt.axes(projection='3d')\n",
    "X = psm2_pts[:,0]\n",
    "Y = psm2_pts[:,1]\n",
    "Z = psm2_pts[:,2]\n",
    "ax.scatter3D(X, Y, Z)\n",
    "\n",
    "rot_animation = animation.FuncAnimation(fig, rotate, frames=np.arange(0, 362, 2), interval=100)"
   ]
  },
  {
   "cell_type": "markdown",
   "metadata": {},
   "source": [
    "## Transformations (ENDOSCOPE & PSM2)"
   ]
  },
  {
   "cell_type": "code",
   "execution_count": null,
   "metadata": {},
   "outputs": [],
   "source": [
    "T2_E = transform.get_transform(\"PSM2\", \"Endoscope\", psm2_pts, endoscope_points)\n",
    "TE_2 = transform.get_transform(\"Endoscope\", \"PSM2\", endoscope_points, psm2_pts)"
   ]
  },
  {
   "cell_type": "code",
   "execution_count": null,
   "metadata": {},
   "outputs": [],
   "source": [
    "psm2_e = transform.transform_data(\"PSM2\", \"Endoscope\", psm2_pts, T2_E, endoscope_points)\n",
    "psme_2 = transform.transform_data(\"Endoscope\", \"PSM2\", endoscope_points, TE_2, psm2_pts)"
   ]
  },
  {
   "cell_type": "markdown",
   "metadata": {},
   "source": [
    "## PSM2 Transformed to Endoscope"
   ]
  },
  {
   "cell_type": "code",
   "execution_count": null,
   "metadata": {},
   "outputs": [],
   "source": [
    "fig = plt.figure()\n",
    "ax = plt.axes(projection='3d')\n",
    "X = psm2_e[:,0]\n",
    "Y = psm2_e[:,1]\n",
    "Z = psm2_e[:,2]\n",
    "ax.scatter3D(X, Y, Z)\n",
    "\n",
    "rot_animation = animation.FuncAnimation(fig, rotate, frames=np.arange(0, 362, 2), interval=100)\n",
    "\n"
   ]
  },
  {
   "cell_type": "markdown",
   "metadata": {},
   "source": [
    "## Endoscope Transformed to PSM2"
   ]
  },
  {
   "cell_type": "code",
   "execution_count": null,
   "metadata": {},
   "outputs": [],
   "source": [
    "fig = plt.figure()\n",
    "ax = plt.axes(projection='3d')\n",
    "X = psme_2[:,0]\n",
    "Y = psme_2[:,1]\n",
    "Z = psme_2[:,2]\n",
    "ax.scatter3D(X, Y, Z)\n",
    "\n",
    "rot_animation = animation.FuncAnimation(fig, rotate, frames=np.arange(0, 362, 2), interval=100)\n"
   ]
  },
  {
   "cell_type": "markdown",
   "metadata": {},
   "source": [
    "## Endoscope Calibration (2)"
   ]
  },
  {
   "cell_type": "code",
   "execution_count": null,
   "metadata": {},
   "outputs": [],
   "source": [
    "raw_points = list(read_camera.load_all('calibration/endoscope_chesspts.p'))\n",
    "world_endo = np.matrix(raw_points[0])\n",
    "pprint.pprint(world_endo)\n",
    "fig = plt.figure()\n",
    "ax = plt.axes(projection='3d')\n",
    "X = world_endo[:,0]\n",
    "Y = world_endo[:,1]\n",
    "Z = world_endo[:,2]\n",
    "ax.scatter3D(X, Y, Z)\n",
    "\n",
    "def rotate(angle):\n",
    "    ax.view_init(azim=angle)\n",
    "\n",
    "rot_animation = animation.FuncAnimation(fig, rotate, frames=np.arange(0, 362, 2), interval=100)\n",
    "# rot_animation.save('../../world_endoscope.gif', dpi=80, writer='imagemagick')"
   ]
  },
  {
   "cell_type": "code",
   "execution_count": null,
   "metadata": {},
   "outputs": [],
   "source": []
  }
 ],
 "metadata": {
  "kernelspec": {
   "display_name": "Python 2",
   "language": "python",
   "name": "python2"
  },
  "language_info": {
   "codemirror_mode": {
    "name": "ipython",
    "version": 3
   },
   "file_extension": ".py",
   "mimetype": "text/x-python",
   "name": "python",
   "nbconvert_exporter": "python",
   "pygments_lexer": "ipython3",
   "version": "3.7.0"
  }
 },
 "nbformat": 4,
 "nbformat_minor": 2
}
